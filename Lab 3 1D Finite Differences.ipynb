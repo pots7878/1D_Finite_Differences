{
 "cells": [
  {
   "cell_type": "markdown",
   "metadata": {},
   "source": [
    "# Lab 3: 1D Finite Differences"
   ]
  },
  {
   "cell_type": "markdown",
   "metadata": {},
   "source": [
    "## Thomas Algorithm "
   ]
  },
  {
   "cell_type": "markdown",
   "metadata": {},
   "source": [
    "### Code Deliverable "
   ]
  },
  {
   "cell_type": "code",
   "execution_count": 15,
   "metadata": {},
   "outputs": [],
   "source": [
    "#import external modules \n",
    "import numpy as np\n",
    "\n",
    "def thomas_solver(a, b, c, d):\n",
    "    \n",
    "    \"\"\"\n",
    "    The Thomas Algorithm is a simplified form of Gaussian elimination that \n",
    "    can be used to solve tridiagonal systems of equations.\n",
    "    \n",
    "    Input:\n",
    "        a, b, c, d - numpy vectors that make up tridiagonal matrix and solution d \n",
    "    Output: \n",
    "        x - solution numpy vector\n",
    "    \"\"\"\n",
    "    \n",
    "    #initialize number of equations\n",
    "    #this will be the length of vector d \n",
    "    n = len(d)\n",
    "    \n",
    "    #make a copy of each array \n",
    "    #can use the map function to map an array function to each variable \n",
    "    aa, bb, cc, dd = (x.astype(float) for x in (a, b, c, d))\n",
    "    \n",
    "    #loop for n iterations \n",
    "    for i in range(1, n):\n",
    "        \n",
    "        #apply the Thomas Algorithm \n",
    "        m = aa[i - 1] / bb[i - 1]\n",
    "        bb[i] = bb[i] - m * cc[i - 1]\n",
    "        dd[i] = dd[i] - m * dd[i - 1]\n",
    "        \n",
    "    #assign solution x to main diagonal b \n",
    "    x = bb\n",
    "    x[-1] = dd[-1] / bb[-1]\n",
    "    \n",
    "    for i in range(n - 2, -1, -1):\n",
    "        x[i] = (dd[i] - cc[i] * x[i + 1]) / bb[i]\n",
    "        \n",
    "    #return solution\n",
    "    return x "
   ]
  },
  {
   "cell_type": "markdown",
   "metadata": {},
   "source": [
    "### Thomas Algorithm Test"
   ]
  },
  {
   "cell_type": "code",
   "execution_count": 22,
   "metadata": {},
   "outputs": [
    {
     "name": "stdout",
     "output_type": "stream",
     "text": [
      "[1. 1. 1. 1. 1. 1. 1. 1. 1. 1.]\n"
     ]
    }
   ],
   "source": [
    "#initialize arrays a b c and d\n",
    "a = np.full([9], -1)\n",
    "b = np.full([10], 3)\n",
    "c = np.full([9], -1)\n",
    "d = np.array([2,1,1,1,1,1,1,1,1,2])\n",
    "\n",
    "#call thomas_solver function with arrays \n",
    "result = thomas_solver(a, b, c, d)\n",
    "print(result)"
   ]
  },
  {
   "cell_type": "code",
   "execution_count": 37,
   "metadata": {},
   "outputs": [
    {
     "name": "stdout",
     "output_type": "stream",
     "text": [
      "[1. 1. 1. 1. 1. 1. 1. 1. 1. 1.]\n"
     ]
    }
   ],
   "source": [
    "A = np.array([[3, -1, 0, 0, 0, 0, 0, 0, 0, 0],\n",
    "             [-1, 3, -1, 0, 0, 0, 0, 0, 0, 0],\n",
    "             [0, -1, 3, -1, 0, 0, 0, 0, 0, 0],\n",
    "             [0, 0, -1, 3, -1, 0, 0, 0, 0, 0],\n",
    "             [0, 0, 0, -1, 3, -1, 0, 0, 0, 0],\n",
    "             [0, 0, 0, 0, -1, 3, -1, 0, 0, 0],\n",
    "             [0, 0, 0, 0, 0, -1, 3, -1, 0, 0],\n",
    "             [0, 0, 0, 0, 0, 0, -1, 3, -1, 0],\n",
    "             [0, 0, 0, 0, 0, 0, 0, -1, 3, -1],\n",
    "             [0, 0, 0, 0, 0, 0, 0, 0, -1, 3]])\n",
    "\n",
    "d = np.array([2,1,1,1,1,1,1,1,1,2])\n",
    "print(np.linalg.solve(A,d))"
   ]
  },
  {
   "cell_type": "markdown",
   "metadata": {},
   "source": [
    "## Finite Differences"
   ]
  },
  {
   "cell_type": "markdown",
   "metadata": {},
   "source": [
    "### Code Deliverable"
   ]
  },
  {
   "cell_type": "code",
   "execution_count": null,
   "metadata": {},
   "outputs": [],
   "source": [
    "def finite_difference_sparce(f, a, b, ua, ub, N):\n",
    "    \n",
    "    "
   ]
  }
 ],
 "metadata": {
  "kernelspec": {
   "display_name": "Python 3",
   "language": "python",
   "name": "python3"
  },
  "language_info": {
   "codemirror_mode": {
    "name": "ipython",
    "version": 3
   },
   "file_extension": ".py",
   "mimetype": "text/x-python",
   "name": "python",
   "nbconvert_exporter": "python",
   "pygments_lexer": "ipython3",
   "version": "3.7.4"
  }
 },
 "nbformat": 4,
 "nbformat_minor": 2
}
