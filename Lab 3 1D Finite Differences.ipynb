{
 "cells": [
  {
   "cell_type": "markdown",
   "metadata": {},
   "source": [
    "# Lab 3: 1D Finite Differences"
   ]
  },
  {
   "cell_type": "markdown",
   "metadata": {},
   "source": [
    "## Thomas Algorithm "
   ]
  },
  {
   "cell_type": "markdown",
   "metadata": {},
   "source": [
    "### Code Deliverable "
   ]
  },
  {
   "cell_type": "code",
   "execution_count": 1,
   "metadata": {},
   "outputs": [],
   "source": [
    "#import external modules \n",
    "import numpy as np\n",
    "\n",
    "def thomas_solver(a, b, c, d):\n",
    "    \n",
    "    \"\"\"\n",
    "    The Thomas Algorithm is a simplified form of Gaussian elimination that \n",
    "    can be used to solve tridiagonal systems of equations.\n",
    "    \n",
    "    Input:\n",
    "        a, b, c, d - numpy vectors that make up tridiagonal matrix and solution d \n",
    "    Output: \n",
    "        x - solution numpy vector\n",
    "    \"\"\"\n",
    "    \n",
    "    #initialize number of equations\n",
    "    #this will be the length of vector d \n",
    "    n = len(d)\n",
    "    \n",
    "    #make a copy of each array \n",
    "    #can use the map function to map an array function to each variable \n",
    "    aa, bb, cc, dd = (x.astype(float) for x in (a, b, c, d))\n",
    "    \n",
    "    #loop for n iterations \n",
    "    for i in range(1, n):\n",
    "        \n",
    "        #apply the Thomas Algorithm \n",
    "        m = aa[i - 1] / bb[i - 1]\n",
    "        bb[i] = bb[i] - m * cc[i - 1]\n",
    "        dd[i] = dd[i] - m * dd[i - 1]\n",
    "        \n",
    "    #assign solution x to main diagonal b \n",
    "    x = bb\n",
    "    x[-1] = dd[-1] / bb[-1]\n",
    "    \n",
    "    for i in range(n - 2, -1, -1):\n",
    "        x[i] = (dd[i] - cc[i] * x[i + 1]) / bb[i]\n",
    "        \n",
    "    #return solution\n",
    "    return x "
   ]
  },
  {
   "cell_type": "markdown",
   "metadata": {},
   "source": [
    "### Thomas Algorithm Test"
   ]
  },
  {
   "cell_type": "code",
   "execution_count": 2,
   "metadata": {},
   "outputs": [
    {
     "name": "stdout",
     "output_type": "stream",
     "text": [
      "[1. 1. 1. 1. 1. 1. 1. 1. 1. 1.]\n"
     ]
    }
   ],
   "source": [
    "#initialize arrays a b c and d\n",
    "a = np.full([9], -1)\n",
    "b = np.full([10], 3)\n",
    "c = np.full([9], -1)\n",
    "d = np.array([2,1,1,1,1,1,1,1,1,2])\n",
    "\n",
    "#call thomas_solver function with arrays \n",
    "result = thomas_solver(a, b, c, d)\n",
    "print(result)"
   ]
  },
  {
   "cell_type": "code",
   "execution_count": 45,
   "metadata": {},
   "outputs": [
    {
     "name": "stdout",
     "output_type": "stream",
     "text": [
      "[1. 1. 1. 1. 1. 1. 1. 1. 1. 1.]\n"
     ]
    }
   ],
   "source": [
    "#compare against thomas solver\n",
    "A = np.array([[3, -1, 0, 0, 0, 0, 0, 0, 0, 0],\n",
    "             [-1, 3, -1, 0, 0, 0, 0, 0, 0, 0],\n",
    "             [0, -1, 3, -1, 0, 0, 0, 0, 0, 0],\n",
    "             [0, 0, -1, 3, -1, 0, 0, 0, 0, 0],\n",
    "             [0, 0, 0, -1, 3, -1, 0, 0, 0, 0],\n",
    "             [0, 0, 0, 0, -1, 3, -1, 0, 0, 0],\n",
    "             [0, 0, 0, 0, 0, -1, 3, -1, 0, 0],\n",
    "             [0, 0, 0, 0, 0, 0, -1, 3, -1, 0],\n",
    "             [0, 0, 0, 0, 0, 0, 0, -1, 3, -1],\n",
    "             [0, 0, 0, 0, 0, 0, 0, 0, -1, 3]])\n",
    "\n",
    "d = np.array([2,1,1,1,1,1,1,1,1,2])\n",
    "print(np.linalg.solve(A,d))"
   ]
  },
  {
   "cell_type": "markdown",
   "metadata": {},
   "source": [
    "## Finite Differences"
   ]
  },
  {
   "cell_type": "markdown",
   "metadata": {},
   "source": [
    "### Code Deliverable"
   ]
  },
  {
   "cell_type": "code",
   "execution_count": 37,
   "metadata": {},
   "outputs": [],
   "source": [
    "#import external modules\n",
    "from scipy import sparse\n",
    "\n",
    "def finite_difference_sparse(f, a, b, ua, ub, N):\n",
    "    \n",
    "    \"\"\"\n",
    "    This function provides the approximate solution given the derivative of a function (f),\n",
    "    the bounded x values (a, b), the initial boundary conditions (ua, ub) and the number of approx (N)\n",
    "    \n",
    "    Input:\n",
    "        f - lambda function that is the derivative you are trying to approximate \n",
    "        a - starting x value \n",
    "        b - ending x value \n",
    "        ua - starting boundary value condition \n",
    "        ub - ending boundary value condition \n",
    "        N - number of iterations to approx\n",
    "    Output:\n",
    "        U_backslash - approximations using python backslash operator \n",
    "        U_thomas - approximations using thomas_solver function\n",
    "        x - interior discretization points \n",
    "    \"\"\"\n",
    "    \n",
    "    #split the domian [a,b] into N+1 equally spaced nodes \n",
    "    #x = a:b:h with h  = (b-a)/N+1\n",
    "    h = (b - a) / (N + 1)\n",
    "\n",
    "    #compute grid points \n",
    "    x = np.arange(a, b, h)\n",
    "\n",
    "    #compute right hand side and set boundary conditions\n",
    "    f = f(x)*(-h**2)\n",
    "    f[0], f[-1] = f[0] - ua, f[-1] - ub\n",
    "    \n",
    "    #define vectors for main diagonal and off diagonals \n",
    "    main_diag = -2*np.ones((N+1, 1)).ravel()\n",
    "    off_diag = 1*np.ones((N, 1)).ravel()\n",
    "\n",
    "    #create sparse matrix \n",
    "    diagonals = [main_diag, off_diag, off_diag]\n",
    "    A = sparse.diags(diagonals, [0,-1,1], shape=(N+1,N+1)).toarray()\n",
    "    \n",
    "    #solve matrix system using backslash and thomas algorithm \n",
    "    U_backslash = np.linalg.solve(A, f)\n",
    "    U_thomas = thomas_solver(off_diag, main_diag, off_diag, f)\n",
    "    \n",
    "    #rreturn approximations and interior points \n",
    "    return U_backslash, U_thomas, x"
   ]
  },
  {
   "cell_type": "code",
   "execution_count": 46,
   "metadata": {},
   "outputs": [],
   "source": [
    "import matplotlib.pyplot as plt\n",
    "%matplotlib inline\n",
    "\n",
    "def plotApprox(xf, x, UB, UT, exactF):\n",
    "    \n",
    "    \"\"\"\n",
    "    This function plots the approximate solutions \n",
    "    versus the exact solution. \n",
    "    \n",
    "    Input:\n",
    "        xf - vector of interior points for exact solution \n",
    "        x - vector of interior points for approximate solutions \n",
    "        UB - approximation for the backslash opperator \n",
    "        UT - approximation for the thomas algorithm function\n",
    "        exactF - lambda function that provides the exact solution\n",
    "    Output:\n",
    "        plot showing the approximate vs exact solution \n",
    "    \"\"\"\n",
    "    \n",
    "    #plot U_thomas, U_backslash vs x against the exact \n",
    "    #solution at each x  \n",
    "    plt.plot(xf, exactF(xf), label='Exact')\n",
    "    plt.plot(x, UB, 'o', label='Backslash')\n",
    "    plt.plot(x, UT, 'x', label='Thomas')\n",
    "    plt.title('Approximations vs Exact')\n",
    "    plt.legend()\n",
    "    plt.show()"
   ]
  },
  {
   "cell_type": "code",
   "execution_count": 47,
   "metadata": {},
   "outputs": [
    {
     "data": {
      "image/png": "[encoded data removed]",
      "text/plain": [
       "<Figure size 432x288 with 1 Axes>"
      ]
     },
     "metadata": {
      "needs_background": "light"
     },
     "output_type": "display_data"
    }
   ],
   "source": [
    "#initial conditions \n",
    "N = 64\n",
    "a = 0\n",
    "b = np.pi * 2\n",
    "ua = 5\n",
    "ub = 8 * np.pi**3 + 5\n",
    "\n",
    "#Define mesh and lambda functions for \n",
    "#approximate and exact \n",
    "xf = np.linspace(a, b, N)\n",
    "exact = lambda x: x**3 - np.sin(x) + 5\n",
    "func = lambda x: -6*x - np.sin(x)\n",
    "\n",
    "#call finite difference function \n",
    "UB, UT, x = finite_difference_sparse(func, a, b, ua, ub, N)\n",
    "\n",
    "#plot approximations vs exact\n",
    "plotApprox(xf, x, UB, UT, exact)"
   ]
  },
  {
   "cell_type": "markdown",
   "metadata": {},
   "source": [
    "### Convergence study"
   ]
  }
 ],
 "metadata": {
  "kernelspec": {
   "display_name": "Python 3",
   "language": "python",
   "name": "python3"
  },
  "language_info": {
   "codemirror_mode": {
    "name": "ipython",
    "version": 3
   },
   "file_extension": ".py",
   "mimetype": "text/x-python",
   "name": "python",
   "nbconvert_exporter": "python",
   "pygments_lexer": "ipython3",
   "version": "3.7.4"
  }
 },
 "nbformat": 4,
 "nbformat_minor": 2
}
