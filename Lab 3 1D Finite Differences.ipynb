{
 "cells": [
  {
   "cell_type": "markdown",
   "metadata": {},
   "source": [
    "# Lab 3: 1D Finite Differences"
   ]
  },
  {
   "cell_type": "markdown",
   "metadata": {},
   "source": [
    "<p><center>Connor Poetzinger</center></p>"
   ]
  },
  {
   "cell_type": "markdown",
   "metadata": {},
   "source": [
    "In this lab we explore boundary value problems (BVP). We start by implementing an implementation of the Matlab backslash operator called the Thomas algorithm. We then implement a finite difference solver to solve a BVP using both the backslash operator and the Thomas algorithm. The results are compared to each other and a convergence study is preformed on the approximated solution. "
   ]
  },
  {
   "cell_type": "markdown",
   "metadata": {},
   "source": [
    "## Thomas Algorithm "
   ]
  },
  {
   "cell_type": "markdown",
   "metadata": {},
   "source": [
    "### Code Deliverable "
   ]
  },
  {
   "cell_type": "markdown",
   "metadata": {},
   "source": [
    "Write a function **thomas_solver** that takes as inputs vectors **a, b, c,** and **d**, and returns the solution **x**."
   ]
  },
  {
   "cell_type": "code",
   "execution_count": 1,
   "metadata": {},
   "outputs": [],
   "source": [
    "#import external modules \n",
    "import numpy as np\n",
    "\n",
    "def thomas_solver(a, b, c, d):\n",
    "    \n",
    "    \"\"\"\n",
    "    The Thomas Algorithm is a simplified form of Gaussian elimination that \n",
    "    can be used to solve tridiagonal systems of equations.\n",
    "    \n",
    "    Input:\n",
    "        a, b, c, d - numpy vectors that make up tridiagonal matrix and solution d \n",
    "    Output: \n",
    "        x - solution numpy vector\n",
    "    \"\"\"\n",
    "    \n",
    "    #initialize number of equations\n",
    "    #this will be the length of vector d \n",
    "    n = len(d)\n",
    "    \n",
    "    #make a copy of each array \n",
    "    #can use the map function to map an array function to each variable \n",
    "    aa, bb, cc, dd = (x.astype(float) for x in (a, b, c, d))\n",
    "    \n",
    "    #loop for n iterations \n",
    "    for i in range(1, n):\n",
    "        \n",
    "        #apply the Thomas Algorithm \n",
    "        m = aa[i - 1] / bb[i - 1]\n",
    "        bb[i] = bb[i] - m * cc[i - 1]\n",
    "        dd[i] = dd[i] - m * dd[i - 1]\n",
    "        \n",
    "    #assign solution x to main diagonal b \n",
    "    x = bb\n",
    "    x[-1] = dd[-1] / bb[-1]\n",
    "    \n",
    "    for i in range(n - 2, -1, -1):\n",
    "        x[i] = (dd[i] - cc[i] * x[i + 1]) / bb[i]\n",
    "        \n",
    "    #return solution\n",
    "    return x "
   ]
  },
  {
   "cell_type": "markdown",
   "metadata": {},
   "source": [
    "### Thomas Algorithm Test"
   ]
  },
  {
   "cell_type": "markdown",
   "metadata": {},
   "source": [
    "Test the **thomas_solver** on the 10x10 linear system where the main diagonal is **3**, the off diagonals are **-1**, and the solution is a 1x10 column vector **2, 1, ... ,1, 2.**"
   ]
  },
  {
   "cell_type": "code",
   "execution_count": 2,
   "metadata": {},
   "outputs": [
    {
     "name": "stdout",
     "output_type": "stream",
     "text": [
      "[1. 1. 1. 1. 1. 1. 1. 1. 1. 1.]\n"
     ]
    }
   ],
   "source": [
    "#initialize arrays a b c and d\n",
    "a = np.full([9], -1)\n",
    "b = np.full([10], 3)\n",
    "c = np.full([9], -1)\n",
    "d = np.array([2,1,1,1,1,1,1,1,1,2])\n",
    "\n",
    "#call thomas_solver function with arrays \n",
    "result = thomas_solver(a, b, c, d)\n",
    "print(result)"
   ]
  },
  {
   "cell_type": "code",
   "execution_count": 3,
   "metadata": {},
   "outputs": [
    {
     "name": "stdout",
     "output_type": "stream",
     "text": [
      "[1. 1. 1. 1. 1. 1. 1. 1. 1. 1.]\n"
     ]
    }
   ],
   "source": [
    "#compare against thomas solver\n",
    "A = np.array([[3, -1, 0, 0, 0, 0, 0, 0, 0, 0],\n",
    "             [-1, 3, -1, 0, 0, 0, 0, 0, 0, 0],\n",
    "             [0, -1, 3, -1, 0, 0, 0, 0, 0, 0],\n",
    "             [0, 0, -1, 3, -1, 0, 0, 0, 0, 0],\n",
    "             [0, 0, 0, -1, 3, -1, 0, 0, 0, 0],\n",
    "             [0, 0, 0, 0, -1, 3, -1, 0, 0, 0],\n",
    "             [0, 0, 0, 0, 0, -1, 3, -1, 0, 0],\n",
    "             [0, 0, 0, 0, 0, 0, -1, 3, -1, 0],\n",
    "             [0, 0, 0, 0, 0, 0, 0, -1, 3, -1],\n",
    "             [0, 0, 0, 0, 0, 0, 0, 0, -1, 3]])\n",
    "\n",
    "d = np.array([2,1,1,1,1,1,1,1,1,2])\n",
    "print(np.linalg.solve(A,d))"
   ]
  },
  {
   "cell_type": "markdown",
   "metadata": {},
   "source": [
    "## Finite Differences"
   ]
  },
  {
   "cell_type": "markdown",
   "metadata": {},
   "source": [
    "### Code Deliverable"
   ]
  },
  {
   "cell_type": "markdown",
   "metadata": {},
   "source": [
    "Write a finite difference code using python's scipy built-in **spdiags** to generate $A_{i,j}$ in sparse form. Use **BOTH** python's numpy backslash operator and the **thomas_solver** to solve for **U**."
   ]
  },
  {
   "cell_type": "code",
   "execution_count": 4,
   "metadata": {},
   "outputs": [],
   "source": [
    "#import external modules\n",
    "from scipy import sparse\n",
    "\n",
    "def finite_difference_sparse(f, a, b, ua, ub, N):\n",
    "    \n",
    "    \"\"\"\n",
    "    This function provides the approximate solution given the derivative of a function (f),\n",
    "    the bounded x values (a, b), the initial boundary conditions (ua, ub) and the number of approx (N)\n",
    "    \n",
    "    Input:\n",
    "        f - lambda function that is the derivative you are trying to approximate \n",
    "        a - starting x value \n",
    "        b - ending x value \n",
    "        ua - starting boundary value condition \n",
    "        ub - ending boundary value condition \n",
    "        N - number of iterations to approx\n",
    "    Output:\n",
    "        U_backslash - approximations using python backslash operator \n",
    "        U_thomas - approximations using thomas_solver function\n",
    "        x - interior discretization points \n",
    "    \"\"\"\n",
    "    \n",
    "    #split the domian [a,b] into N+1 equally spaced nodes \n",
    "    #x = a:b:h with h  = (b-a)/N+1\n",
    "    h = (b - a) / (N + 1)\n",
    "\n",
    "    #compute grid points \n",
    "    x = np.arange(a, b, h)\n",
    "\n",
    "    #compute right hand side and set boundary conditions\n",
    "    f = f(x)*(-h**2)\n",
    "    f[0], f[-1] = f[0] - ua, f[-1] - ub\n",
    "\n",
    "    #define vectors for main diagonal and off diagonals \n",
    "    main_diag = -2*np.ones((N+1, 1)).ravel()\n",
    "    off_diag = 1*np.ones((N, 1)).ravel()\n",
    "\n",
    "    #create sparse matrix \n",
    "    diagonals = [main_diag, off_diag, off_diag]\n",
    "    A = sparse.diags(diagonals, [0,-1,1], shape=(N+1,N+1)).toarray()\n",
    "\n",
    "    #solve matrix system using backslash and thomas algorithm \n",
    "    U_backslash = np.linalg.solve(A, f)\n",
    "    U_thomas = thomas_solver(off_diag, main_diag, off_diag, f)\n",
    "    \n",
    "    #rreturn approximations and interior points \n",
    "    return U_backslash, U_thomas, x"
   ]
  },
  {
   "cell_type": "code",
   "execution_count": 5,
   "metadata": {},
   "outputs": [],
   "source": [
    "import matplotlib.pyplot as plt\n",
    "%matplotlib inline\n",
    "\n",
    "def generateApproxPlots(xf, x, UB, UT, exactF):\n",
    "    \n",
    "    \"\"\"\n",
    "    This function plots the approximate solutions \n",
    "    versus the exact solution. \n",
    "    \n",
    "    Input:\n",
    "        xf - vector of interior points for exact solution \n",
    "        x - vector of interior points for approximate solutions \n",
    "        UB - approximation for the backslash opperator \n",
    "        UT - approximation for the thomas algorithm function\n",
    "        exactF - lambda function that provides the exact solution\n",
    "    Output:\n",
    "        plot showing the approximate vs exact solution \n",
    "    \"\"\"\n",
    "    \n",
    "    fig, ax = plt.subplots(1, 2, figsize=(15,5))\n",
    "    ax[0].plot(xf, exactF(xf), label='Exact')\n",
    "    ax[0].plot(x, UB, 'o', label='Backslash')\n",
    "    ax[0].plot(x, UT, 'x', label='Thomas')\n",
    "    ax[0].set_title('Approximations vs Exact', fontsize=18)\n",
    "    ax[0].legend()\n",
    "    ax[1].plot(x, UB, 'o', label='Backslash')\n",
    "    ax[1].plot(x, UT, '--', label='Thomas')\n",
    "    ax[1].set_title('Difference between approximations', fontsize=18)\n",
    "    ax[1].legend()\n",
    "    plt.show()"
   ]
  },
  {
   "cell_type": "markdown",
   "metadata": {},
   "source": [
    "### Exercise"
   ]
  },
  {
   "cell_type": "markdown",
   "metadata": {},
   "source": [
    "Given the exact solution, \n",
    "\\begin{equation*}\n",
    "u(x) = x^3 - sin(x) + 5\n",
    "\\end{equation*}\n",
    "\\begin{equation*}\n",
    "x = [0,2\\pi]\n",
    "\\end{equation*}\n",
    "we can generate\n",
    "\\begin{equation*}\n",
    "-f(x) = u^{''}(x)=-(6x+sin(x)),\n",
    "\\end{equation*}\n",
    "and the boundary conditions,\n",
    "\\begin{equation*}\n",
    "u_a=u(0)=5,\n",
    "\\end{equation*}\n",
    "\\begin{equation*}\n",
    "u_b=u(2\\pi)=8\\pi^3+5\n",
    "\\end{equation*}\n",
    "Appy the code to the $u^{''}$ when *N = 64*. Plot **U_backslash and U_thomas** vs **x** against the exact solution at each x. Report the difference between **U_backslash and U_thomas**."
   ]
  },
  {
   "cell_type": "code",
   "execution_count": 6,
   "metadata": {},
   "outputs": [
    {
     "data": {
      "image/png": "[encoded data removed]",
      "text/plain": [
       "<Figure size 1080x360 with 2 Axes>"
      ]
     },
     "metadata": {
      "needs_background": "light"
     },
     "output_type": "display_data"
    }
   ],
   "source": [
    "#initial conditions \n",
    "N = 64\n",
    "a = 0\n",
    "b = np.pi * 2\n",
    "ua = 5\n",
    "ub = 8 * np.pi**3 + 5\n",
    "\n",
    "#Define mesh and lambda functions for \n",
    "#approximate and exact \n",
    "xf = np.linspace(a, b, N)\n",
    "exact = lambda x: x**3 - np.sin(x) + 5\n",
    "func = lambda x: -6*x - np.sin(x)\n",
    "\n",
    "#call finite difference function \n",
    "UB, UT, x = finite_difference_sparse(func, a, b, ua, ub, N)\n",
    "\n",
    "#plot approximations vs exact\n",
    "generateApproxPlots(xf, x, UB, UT, exact)"
   ]
  },
  {
   "cell_type": "markdown",
   "metadata": {},
   "source": [
    "### Convergence study"
   ]
  },
  {
   "cell_type": "markdown",
   "metadata": {},
   "source": [
    "Convergence study using *N = [4, 8, 16, 32, 64, 128]*, using the $\\ell_2$ norm and the $\\ell_{\\infty}$ norm. Provide a *loglog* plot with both norms and state the convergence order in your report. I am using **U_backslash** to show the order of convergence."
   ]
  },
  {
   "cell_type": "code",
   "execution_count": 7,
   "metadata": {},
   "outputs": [],
   "source": [
    "def finiteDiffConvergence(func, a, b, ua, ub, h):\n",
    "    \n",
    "    \"\"\"\n",
    "    This function performs a convergence study \n",
    "    \"\"\"\n",
    "\n",
    "    #array of different values of N\n",
    "    N = [4, 8, 16, 32, 64, 128]\n",
    "\n",
    "    #initialize empty array to hold error\n",
    "    err = []\n",
    "\n",
    "    #loop through N values in Narray \n",
    "    for h in N:\n",
    "        #call finite different functions \n",
    "        UB, UT, x = finite_difference_sparse(func, a, b, ua, ub, h)\n",
    "        #find error from approximate value and exact \n",
    "        E = UB - exact(np.linspace(a, b, h+1))\n",
    "        #append error to array \n",
    "        err.append(E)\n",
    "\n",
    "    #calculate the l2 and linf norm \n",
    "    X = [np.linalg.norm(item, 2) for item in err]\n",
    "    Y = [np.linalg.norm(item, np.inf) for item in err]\n",
    "    \n",
    "    #return norms \n",
    "    return X/np.sqrt(N), Y, N"
   ]
  },
  {
   "cell_type": "code",
   "execution_count": 8,
   "metadata": {},
   "outputs": [],
   "source": [
    "def plotLoglog(X, Y, NN):\n",
    "    \"\"\"\n",
    "    This function plots a convergence study on the approximated solutions \n",
    "    \n",
    "    Inputs:\n",
    "        X - l2 norm of approximated solution \n",
    "        Y - linf norm of the approximated solution \n",
    "        NN - array of N input sizes \n",
    "    \"\"\"\n",
    "    \n",
    "    #calculate slope \n",
    "    m1 = (np.log(2.18868523/4.36864701))/(np.log(128/64))\n",
    "    m2 = (np.log(5.675683733054939/11.178104970785938))/(np.log(128/64))\n",
    "    txt = \"\\nSlope of the log log plot for l_2 norm \" + str(round(m1,6)) + \"\\nSlope of the log log plot for l_inf norm \" + str(round(m2,6))\n",
    "    \n",
    "    #plot convergence study \n",
    "    fig, ax = plt.subplots(1, 2, figsize=(15,5))\n",
    "    ax[0].loglog(NN, X)\n",
    "    ax[0].set_xlabel('Step size N')\n",
    "    ax[0].set_ylabel(r'$\\ell_2$ norm of U_backslash')\n",
    "    ax[0].set_title(r'Loglog plot for $\\ell_2$ norm', fontsize=18)\n",
    "    ax[1].loglog(NN, Y)\n",
    "    ax[1].set_xlabel('Step size N')\n",
    "    ax[1].set_ylabel(r'$\\ell_{\\infty}$ norm of U_backslash')\n",
    "    ax[1].set_title(r'Loglog plot for $\\ell_{\\infty}$ norm', fontsize=18)\n",
    "    fig.text(.5, .000005, txt, ha='center', fontsize=13)\n",
    "    plt.show()"
   ]
  },
  {
   "cell_type": "code",
   "execution_count": 9,
   "metadata": {},
   "outputs": [
    {
     "data": {
      "image/png": "[encoded data removed]",
      "text/plain": [
       "<Figure size 1080x360 with 2 Axes>"
      ]
     },
     "metadata": {
      "needs_background": "light"
     },
     "output_type": "display_data"
    }
   ],
   "source": [
    "#perform and plot convergence study \n",
    "X, Y, NN = finiteDiffConvergence(func, a, b, ua, ub, N)\n",
    "plotLoglog(X, Y, NN)"
   ]
  }
 ],
 "metadata": {
  "kernelspec": {
   "display_name": "Python 3",
   "language": "python",
   "name": "python3"
  },
  "language_info": {
   "codemirror_mode": {
    "name": "ipython",
    "version": 3
   },
   "file_extension": ".py",
   "mimetype": "text/x-python",
   "name": "python",
   "nbconvert_exporter": "python",
   "pygments_lexer": "ipython3",
   "version": "3.7.1"
  }
 },
 "nbformat": 4,
 "nbformat_minor": 2
}
